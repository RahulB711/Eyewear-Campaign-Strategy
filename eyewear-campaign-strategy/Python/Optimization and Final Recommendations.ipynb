{
 "cells": [
  {
   "cell_type": "code",
   "execution_count": 1,
   "id": "9dfafee1",
   "metadata": {},
   "outputs": [
    {
     "name": "stdout",
     "output_type": "stream",
     "text": [
      "Requirement already satisfied: pulp in c:\\users\\bisht\\anaconda3\\lib\\site-packages (3.1.1)\n",
      "Note: you may need to restart the kernel to use updated packages.\n"
     ]
    }
   ],
   "source": [
    "pip install pulp\n"
   ]
  },
  {
   "cell_type": "code",
   "execution_count": 2,
   "id": "09426b32",
   "metadata": {},
   "outputs": [],
   "source": [
    "import pandas as pd"
   ]
  },
  {
   "cell_type": "code",
   "execution_count": 4,
   "id": "7ee3523a",
   "metadata": {},
   "outputs": [],
   "source": [
    "segment_plan=pd.read_csv(\" Campaign_Segment_Performance.csv\")"
   ]
  },
  {
   "cell_type": "code",
   "execution_count": 6,
   "id": "1c6b21ec",
   "metadata": {},
   "outputs": [],
   "source": [
    "from pulp import LpMaximize, LpProblem, LpVariable, lpSum, LpBinary\n",
    "\n",
    "\n",
    "\n",
    "# Calculate mailing cost\n",
    "segment_plan[\"Mailing_Cost\"] = segment_plan[\"total_customers\"] * 0.25\n",
    "\n",
    "# Setup optimization model\n",
    "model = LpProblem(\"Campaign_Budget_Optimization\", LpMaximize)\n"
   ]
  },
  {
   "cell_type": "code",
   "execution_count": 7,
   "id": "838cae71",
   "metadata": {},
   "outputs": [],
   "source": [
    "# Binary decision variables\n",
    "decision_vars = {\n",
    "    i: LpVariable(f\"Select_{i}\", cat=LpBinary)\n",
    "    for i in segment_plan.index\n",
    "}"
   ]
  },
  {
   "cell_type": "code",
   "execution_count": 8,
   "id": "59d41293",
   "metadata": {},
   "outputs": [],
   "source": [
    "# Objective: Maximize total actual revenue\n",
    "model += lpSum(segment_plan.loc[i, \"actual_revenue\"] * decision_vars[i] for i in segment_plan.index)"
   ]
  },
  {
   "cell_type": "code",
   "execution_count": 10,
   "id": "59498869",
   "metadata": {},
   "outputs": [
    {
     "data": {
      "text/plain": [
       "1"
      ]
     },
     "execution_count": 10,
     "metadata": {},
     "output_type": "execute_result"
    }
   ],
   "source": [
    "# Constraint: total mailing cost ≤ 2 million\n",
    "model += lpSum(segment_plan.loc[i, \"Mailing_Cost\"] * decision_vars[i] for i in segment_plan.index) <= 2_000_000\n",
    "# Solve\n",
    "model.solve()"
   ]
  },
  {
   "cell_type": "code",
   "execution_count": 11,
   "id": "1439d6fc",
   "metadata": {},
   "outputs": [],
   "source": [
    "# Store which segments were selected\n",
    "segment_plan[\"Selected\"] = [int(decision_vars[i].value()) for i in segment_plan.index]\n",
    "\n",
    "# Save result\n",
    "segment_plan.to_csv(\"Optimized_Campaign_Segments.csv\", index=False)\n"
   ]
  },
  {
   "cell_type": "code",
   "execution_count": 12,
   "id": "5c5832ac",
   "metadata": {},
   "outputs": [
    {
     "name": "stdout",
     "output_type": "stream",
     "text": [
      "Optimization Complete!\n",
      "Total Revenue: 23750468.2\n",
      "Total Cost: 553.5\n",
      "Total Expected Responses: 1212.2809125874126\n"
     ]
    }
   ],
   "source": [
    "#summary\n",
    "print(\"Optimization Complete!\")\n",
    "print(\"Total Revenue:\", segment_plan.loc[segment_plan[\"Selected\"] == 1, \"actual_revenue\"].sum())\n",
    "print(\"Total Cost:\", segment_plan.loc[segment_plan[\"Selected\"] == 1, \"Mailing_Cost\"].sum())\n",
    "print(\"Total Expected Responses:\", segment_plan.loc[segment_plan[\"Selected\"] == 1, \"expected_responses\"].sum())\n"
   ]
  },
  {
   "cell_type": "code",
   "execution_count": null,
   "id": "661d3308",
   "metadata": {},
   "outputs": [],
   "source": []
  }
 ],
 "metadata": {
  "kernelspec": {
   "display_name": "Python 3 (ipykernel)",
   "language": "python",
   "name": "python3"
  },
  "language_info": {
   "codemirror_mode": {
    "name": "ipython",
    "version": 3
   },
   "file_extension": ".py",
   "mimetype": "text/x-python",
   "name": "python",
   "nbconvert_exporter": "python",
   "pygments_lexer": "ipython3",
   "version": "3.9.13"
  }
 },
 "nbformat": 4,
 "nbformat_minor": 5
}
